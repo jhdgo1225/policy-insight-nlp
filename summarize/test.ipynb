{
 "cells": [
  {
   "cell_type": "code",
   "execution_count": 1,
   "id": "63e18079",
   "metadata": {},
   "outputs": [],
   "source": [
    "def load_cleaned_datasets():\n",
    "    \"\"\"전처리된 데이터셋 로드\"\"\"\n",
    "    with open('./cleaned_datasets/cleaned_train_dataset.json') as f:\n",
    "        train_dataset = [data for data in json.load(f)]\n",
    "    with open('./cleaned_datasets/cleaned_valid_dataset.json') as f:\n",
    "        valid_dataset = [data for data in json.load(f)]\n",
    "    with open('./cleaned_datasets/cleaned_test_dataset.json') as f:\n",
    "        test_dataset = [data for data in json.load(f)]\n",
    "    return train_dataset, valid_dataset, test_dataset"
   ]
  },
  {
   "cell_type": "code",
   "execution_count": 29,
   "id": "fc9713b0",
   "metadata": {},
   "outputs": [],
   "source": [
    "import json\n",
    "\n",
    "train_dataset, valid_dataset, test_dataset = load_cleaned_datasets()"
   ]
  },
  {
   "cell_type": "code",
   "execution_count": 30,
   "id": "15b21215",
   "metadata": {},
   "outputs": [],
   "source": [
    "import copy\n",
    "\n",
    "def f(x):\n",
    "\tresult = copy.deepcopy(x)\n",
    "\tresult['body'].insert(0, \"요약: \")\n",
    "\treturn result\n",
    "new_train_dataset = list(map(f, train_dataset))\n"
   ]
  },
  {
   "cell_type": "code",
   "execution_count": 31,
   "id": "46fe5a2e",
   "metadata": {},
   "outputs": [
    {
     "name": "stdout",
     "output_type": "stream",
     "text": [
      "{'body': ['전남도경북도 인구감소문제 해결 공동토론회 개최', '지역간 상생협력체계 구축범부처 정책 필요성 제기', '전남 인구소멸 우려 높은 지역 대한 지원 골자 한 특별법 제정 시급하다는 여론 확산되고', '전남도 농촌지역 인구 감소 문제 해결 위해 경북도 공동 20일 광주전남연구원 100여명 참석한 가운데 인구소멸지역 지원 특별법 제정 필요성 실효성 있는 법안 마련이란 주제 토론회 개최했다', '토론회 한국지방행정연구원 전남 유사하게 인구 주는 경북전북충남충북강원 개 시도연구원연구 위원 박종철 목포대 명예교수 박문옥 전남도의원 참석했다', '박병호 전남도 행정부지사 전남 경북 농촌 합계출산율 높지만 수도권 인구 유출 감소하고 며 지방 활력 경쟁력 잃으면 미래 국가경쟁력도 장담할 수 없다 특별법 제정 필요성 강조했다', '박종철 목포대 명예교수 좌장 진행된 토론회 안성조 대구경북연구원연 위원 인구감소지역인구 편차 현황’, 박진경 한국지방행정연구원연 위원 지방소멸대응 지역발전 정책 특별법 마련 주제 기조발표 했다', '토론자 특별법 제정 필요성 법안 포함돼야 할 내용 대해 열띤 토론 했다', '안 위원 우리나라 인구 49.97% 수도권 거주하는 수도권 쏠림현상 때문 지방 정주여건 취약 인구유출 고령화 지역 쇠퇴 악순환 겪으면서 지속가능성 위협받고 진단했다', '박 위원 수도권 인구 집중 지방 저출산고령화 20-30대 젊은 인구 유출 겹치면서 지방소멸 위기 가중되고 며 가칭지역활력 특별법 제정 국가균형발전특별법 개정 인구 감소지역 포용적 성장 활력 촉진하는 범부처 지역발전정책 마련 시급하다 주장했다', '박문옥 도의원 인구감소 지방소멸에도 불구하고 지방자치단체 도생 비효율적 경쟁적 예산 집행 통해 재원 행정력 낭비하고 며 지역 간 상생협력체계 구축 위해 생활권 문화권 경제권 행정권 다양한 통합정책 모색해야 한다 말했다', '강렬 광주전남연구원연 위원 인구 감소지역 지원 방안 범정부차원 인구균형정책 지역투자협력사업 통한 지원 U턴 J턴 인구 지원 차등화 외국인 대한 인식 전환 체류 수요 대응하는 SOC 공급정책 추진해야 한다 주장했다', '전남도 토론회 내용 바탕 내년 초 경북 공동 연용역 통해 특별법안 마련하고 국회 대토론회 대국민 서명운동 펼치는 인구 감소 시도 특별법 제정 위해 공동 대응할 계획'], 'summarize': '인구소멸 우려가 높은 지역에 대한 지원을 골자로 한 특별법 제정이 시급하다는 여론에 전남도는 ‘인구소멸지역 지원 특별법’ 제정 필요성과 실효성 있는 법안 마련이란 주제로 토론회를 개최했다.'}\n",
      "{'body': ['요약: ', '전남도경북도 인구감소문제 해결 공동토론회 개최', '지역간 상생협력체계 구축범부처 정책 필요성 제기', '전남 인구소멸 우려 높은 지역 대한 지원 골자 한 특별법 제정 시급하다는 여론 확산되고', '전남도 농촌지역 인구 감소 문제 해결 위해 경북도 공동 20일 광주전남연구원 100여명 참석한 가운데 인구소멸지역 지원 특별법 제정 필요성 실효성 있는 법안 마련이란 주제 토론회 개최했다', '토론회 한국지방행정연구원 전남 유사하게 인구 주는 경북전북충남충북강원 개 시도연구원연구 위원 박종철 목포대 명예교수 박문옥 전남도의원 참석했다', '박병호 전남도 행정부지사 전남 경북 농촌 합계출산율 높지만 수도권 인구 유출 감소하고 며 지방 활력 경쟁력 잃으면 미래 국가경쟁력도 장담할 수 없다 특별법 제정 필요성 강조했다', '박종철 목포대 명예교수 좌장 진행된 토론회 안성조 대구경북연구원연 위원 인구감소지역인구 편차 현황’, 박진경 한국지방행정연구원연 위원 지방소멸대응 지역발전 정책 특별법 마련 주제 기조발표 했다', '토론자 특별법 제정 필요성 법안 포함돼야 할 내용 대해 열띤 토론 했다', '안 위원 우리나라 인구 49.97% 수도권 거주하는 수도권 쏠림현상 때문 지방 정주여건 취약 인구유출 고령화 지역 쇠퇴 악순환 겪으면서 지속가능성 위협받고 진단했다', '박 위원 수도권 인구 집중 지방 저출산고령화 20-30대 젊은 인구 유출 겹치면서 지방소멸 위기 가중되고 며 가칭지역활력 특별법 제정 국가균형발전특별법 개정 인구 감소지역 포용적 성장 활력 촉진하는 범부처 지역발전정책 마련 시급하다 주장했다', '박문옥 도의원 인구감소 지방소멸에도 불구하고 지방자치단체 도생 비효율적 경쟁적 예산 집행 통해 재원 행정력 낭비하고 며 지역 간 상생협력체계 구축 위해 생활권 문화권 경제권 행정권 다양한 통합정책 모색해야 한다 말했다', '강렬 광주전남연구원연 위원 인구 감소지역 지원 방안 범정부차원 인구균형정책 지역투자협력사업 통한 지원 U턴 J턴 인구 지원 차등화 외국인 대한 인식 전환 체류 수요 대응하는 SOC 공급정책 추진해야 한다 주장했다', '전남도 토론회 내용 바탕 내년 초 경북 공동 연용역 통해 특별법안 마련하고 국회 대토론회 대국민 서명운동 펼치는 인구 감소 시도 특별법 제정 위해 공동 대응할 계획'], 'summarize': '인구소멸 우려가 높은 지역에 대한 지원을 골자로 한 특별법 제정이 시급하다는 여론에 전남도는 ‘인구소멸지역 지원 특별법’ 제정 필요성과 실효성 있는 법안 마련이란 주제로 토론회를 개최했다.'}\n"
     ]
    }
   ],
   "source": [
    "print(train_dataset[0])\n",
    "print(new_train_dataset[0])\n"
   ]
  },
  {
   "cell_type": "code",
   "execution_count": null,
   "id": "c510c3a6",
   "metadata": {},
   "outputs": [],
   "source": []
  }
 ],
 "metadata": {
  "kernelspec": {
   "display_name": "preprocessing",
   "language": "python",
   "name": "python3"
  },
  "language_info": {
   "codemirror_mode": {
    "name": "ipython",
    "version": 3
   },
   "file_extension": ".py",
   "mimetype": "text/x-python",
   "name": "python",
   "nbconvert_exporter": "python",
   "pygments_lexer": "ipython3",
   "version": "3.12.9"
  }
 },
 "nbformat": 4,
 "nbformat_minor": 5
}
